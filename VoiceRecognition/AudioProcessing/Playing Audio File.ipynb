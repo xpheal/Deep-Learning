{
 "cells": [
  {
   "cell_type": "markdown",
   "metadata": {},
   "source": [
    "# Audio Analysis using Python\n",
    "The default format of the audio file used in this jupyter file is wav.  \n",
    "**This jupyter file contains useful functions and template for:**  \n",
    "1) Playing audio file  \n",
    "2) Extracting features from audio file  \n",
    "3) Visualizing audio signals and features  \n",
    " \n",
    "### Some packages used\n",
    "1) pyaudio: Play audio file [Documentation](https://people.csail.mit.edu/hubert/pyaudio/docs/)  \n",
    "2) wave: Load audio file [Documentation](https://docs.python.org/3/library/wave.html)  \n",
    "3) librosa: Audio analysis library [Documentation](https://librosa.github.io/librosa/index.html)  \n",
    "\n"
   ]
  },
  {
   "cell_type": "code",
   "execution_count": null,
   "metadata": {
    "collapsed": true
   },
   "outputs": [],
   "source": [
    "import numpy as np\n",
    "import matplotlib.pyplot as plt\n",
    "import pyaudio\n",
    "import wave\n",
    "import librosa.display\n",
    "import librosa\n",
    "import scipy"
   ]
  },
  {
   "cell_type": "code",
   "execution_count": null,
   "metadata": {
    "collapsed": true
   },
   "outputs": [],
   "source": []
  },
  {
   "cell_type": "code",
   "execution_count": null,
   "metadata": {
    "collapsed": false
   },
   "outputs": [],
   "source": [
    "# Stores an audio file for easy playback, audio metadata are converted to mono\n",
    "class Audio():\n",
    "    def __init__(self, filename):\n",
    "        self.filename = filename\n",
    "        self.chunk = 1024\n",
    "        \n",
    "        with wave.open(filename, 'rb') as wf:\n",
    "            # Divide by number of channels for librosa's case because librosa convert stereo to mono by default\n",
    "            self.rate = wf.getframerate() // wf.getnchannels()\n",
    "            self.total_sample_size = wf.getnframes() // wf.getnchannels()\n",
    "    \n",
    "#     Return the sample size for the given duration, return the maximum length of the sample size if duration exceed the sample's duration\n",
    "    def get_sample_size(self, duration):\n",
    "        return min(self.rate * duration, self.total_sample_size)\n",
    "    \n",
    "#     Play the audio file for the given duration, play the whole file if duration is not given\n",
    "    def play(self, duration=0):\n",
    "        wf = wave.open(self.filename, 'rb')\n",
    "        p = pyaudio.PyAudio()\n",
    "        \n",
    "        stream = p.open(format =\n",
    "                p.get_format_from_width(wf.getsampwidth()),\n",
    "                channels = wf.getnchannels(),\n",
    "                rate = wf.getframerate(),\n",
    "                output = True)\n",
    "        \n",
    "        if duration:\n",
    "            d_chunk = duration * wf.getframerate()\n",
    "            data = wf.readframes(d_chunk)\n",
    "            stream.write(data)\n",
    "        else:\n",
    "            data = wf.readframes(self.chunk)\n",
    "\n",
    "            while len(data) > 0:\n",
    "                stream.write(data)\n",
    "                data = wf.readframes(self.chunk)\n",
    "        \n",
    "        stream.close()\n",
    "        p.terminate()\n",
    "        wf.close()"
   ]
  },
  {
   "cell_type": "code",
   "execution_count": null,
   "metadata": {
    "collapsed": false
   },
   "outputs": [],
   "source": [
    "wayne_1 = Audio(\"./working_data/wayne_test_1.wav\")\n",
    "wayne_2 = Audio(\"./working_data/wayne_test_2.wav\")\n",
    "wayne_3 = Audio(\"./working_data/wayne_test_3.wav\")\n",
    "wayne_4 = Audio(\"./working_data/wayne_sing_1.wav\")\n",
    "wayne_5 = Audio(\"./working_data/wayne_sing_2.wav\")\n",
    "wayne_6 = Audio(\"./working_data/wayne_sing_3.wav\")"
   ]
  },
  {
   "cell_type": "code",
   "execution_count": null,
   "metadata": {
    "collapsed": true
   },
   "outputs": [],
   "source": [
    "def display_linear_frequency_spectogram(audio, num_samples=5000):\n",
    "    x, rate = librosa.load(audio.filename)\n",
    "    x = x[:num_samples]\n",
    "    \n",
    "    D = librosa.amplitude_to_db(librosa.stft(x), ref=np.max)\n",
    "    librosa.display.specshow(D, y_axis='linear')\n",
    "    plt.colorbar(format='%+2.0f dB')\n",
    "    plt.title('Linear-frequency power spectogram')\n",
    "    plt.show()"
   ]
  },
  {
   "cell_type": "code",
   "execution_count": null,
   "metadata": {
    "collapsed": true
   },
   "outputs": [],
   "source": [
    "def display_wave(audio, num_samples=5000):\n",
    "    y, rate = librosa.load(audio.filename)\n",
    "    y = y[:num_samples]\n",
    "    \n",
    "    x = np.arange(num_samples)\n",
    "    \n",
    "    plt.plot(x,y)\n",
    "    plt.show()"
   ]
  },
  {
   "cell_type": "code",
   "execution_count": null,
   "metadata": {
    "collapsed": false
   },
   "outputs": [],
   "source": [
    "display_wave(wayne_1, wayne_1.get_sample_size(3))\n",
    "display_linear_frequency_spectogram(wayne_1, wayne_1.get_sample_size(3))"
   ]
  },
  {
   "cell_type": "code",
   "execution_count": null,
   "metadata": {
    "collapsed": false
   },
   "outputs": [],
   "source": [
    "display_wave(wayne_4, wayne_4.get_sample_size(3))\n",
    "display_linear_frequency_spectogram(wayne_4, wayne_4.get_sample_size(3))"
   ]
  },
  {
   "cell_type": "code",
   "execution_count": null,
   "metadata": {
    "collapsed": true
   },
   "outputs": [],
   "source": [
    "ex_1 = Audio(\"./working_data/abbott_10.wav\")\n",
    "ex_2 = Audio(\"./working_data/optic_10.wav\")\n",
    "ex_3 = Audio(\"./working_data/aeschylus_10.wav\")"
   ]
  },
  {
   "cell_type": "code",
   "execution_count": null,
   "metadata": {
    "collapsed": false
   },
   "outputs": [],
   "source": [
    "display_wave(ex_1, ex_1.get_sample_size(3))\n",
    "display_linear_frequency_spectogram(ex_1, ex_1.get_sample_size(3))"
   ]
  }
 ],
 "metadata": {
  "kernelspec": {
   "display_name": "Python 3",
   "language": "python",
   "name": "python3"
  },
  "language_info": {
   "codemirror_mode": {
    "name": "ipython",
    "version": 3
   },
   "file_extension": ".py",
   "mimetype": "text/x-python",
   "name": "python",
   "nbconvert_exporter": "python",
   "pygments_lexer": "ipython3",
   "version": "3.5.2"
  }
 },
 "nbformat": 4,
 "nbformat_minor": 1
}
