{
 "cells": [
  {
   "cell_type": "code",
   "execution_count": 1,
   "metadata": {
    "collapsed": true
   },
   "outputs": [],
   "source": [
    "import pyaudio\n",
    "import wave"
   ]
  },
  {
   "cell_type": "code",
   "execution_count": 15,
   "metadata": {
    "collapsed": true
   },
   "outputs": [],
   "source": [
    "# Stores an audio file for easy playback\n",
    "class Audio():\n",
    "    def __init__(self, filename):\n",
    "        self.filename = filename\n",
    "        self.chunk = 1024\n",
    "    \n",
    "#     Play the audio file for the given duration, play the whole file if duration is not given\n",
    "    def play(self, duration=0):\n",
    "        wf = wave.open(self.filename, 'rb')\n",
    "        p = pyaudio.PyAudio()\n",
    "        \n",
    "        stream = p.open(format =\n",
    "                p.get_format_from_width(wf.getsampwidth()),\n",
    "                channels = wf.getnchannels(),\n",
    "                rate = wf.getframerate(),\n",
    "                output = True)\n",
    "        \n",
    "        if duration:\n",
    "            d_chunk = duration * wf.getframerate()\n",
    "            data = wf.readframes(d_chunk)\n",
    "            stream.write(data)\n",
    "        else:\n",
    "            data = wf.readframes(self.chunk)\n",
    "\n",
    "            while len(data) > 0:\n",
    "                stream.write(data)\n",
    "                data = wf.readframes(self.chunk)\n",
    "        \n",
    "        stream.close()\n",
    "        p.terminate()\n",
    "        wf.close()"
   ]
  },
  {
   "cell_type": "code",
   "execution_count": 3,
   "metadata": {
    "collapsed": true
   },
   "outputs": [],
   "source": [
    "wayne_1 = Audio(\"./working_data/wayne_test_1.wav\")\n",
    "wayne_2 = Audio(\"./working_data/wayne_test_2.wav\")\n",
    "wayne_3 = Audio(\"./working_data/wayne_test_3.wav\")\n",
    "wayne_4 = Audio(\"./working_data/wayne_sing_1.wav\")\n",
    "wayne_5 = Audio(\"./working_data/wayne_sing_2.wav\")\n",
    "wayne_6 = Audio(\"./working_data/wayne_sing_3.wav\")"
   ]
  }
 ],
 "metadata": {
  "kernelspec": {
   "display_name": "Python 3",
   "language": "python",
   "name": "python3"
  },
  "language_info": {
   "codemirror_mode": {
    "name": "ipython",
    "version": 3
   },
   "file_extension": ".py",
   "mimetype": "text/x-python",
   "name": "python",
   "nbconvert_exporter": "python",
   "pygments_lexer": "ipython3",
   "version": "3.5.2"
  }
 },
 "nbformat": 4,
 "nbformat_minor": 1
}
